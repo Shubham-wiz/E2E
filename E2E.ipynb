{
 "cells": [
  {
   "cell_type": "code",
   "execution_count": null,
   "metadata": {},
   "outputs": [],
   "source": [
    "# Required libraries\n",
    "libraries = ['numpy', 'torch', 'torchvision', 'opencv-python', 'matplotlib', 'tqdm']\n",
    "\n",
    "# Function to install missing libraries\n",
    "def install_missing_libraries(libs):\n",
    "    import subprocess\n",
    "    for lib in libs:\n",
    "        try:\n",
    "            import lib\n",
    "        except ImportError:\n",
    "            print(f\"Installing missing library: {lib}\")\n",
    "            subprocess.call(['pip', 'install', lib])\n",
    "\n",
    "\n",
    "# Check and install missing libraries\n",
    "install_missing_libraries(libraries)"
   ]
  },
  {
   "cell_type": "code",
   "execution_count": 3,
   "metadata": {
    "execution": {
     "iopub.execute_input": "2022-01-14T21:32:56.654957Z",
     "iopub.status.busy": "2022-01-14T21:32:56.654545Z",
     "iopub.status.idle": "2022-01-14T21:32:58.282693Z",
     "shell.execute_reply": "2022-01-14T21:32:58.281696Z",
     "shell.execute_reply.started": "2022-01-14T21:32:56.654918Z"
    }
   },
   "outputs": [],
   "source": [
    "import numpy as np\n",
    "import torch.nn.functional as F\n",
    "import torch\n",
    "import torch.nn as nn\n",
    "import torchvision.transforms as transforms\n",
    "import os\n",
    "import cv2\n",
    "from torch.utils.data import DataLoader, Dataset\n",
    "import matplotlib.pyplot as plt\n",
    "import numpy as np\n",
    "import random\n",
    "from random import randint\n",
    "from tqdm.notebook import tqdm\n",
    "    "
   ]
  },
  {
   "cell_type": "markdown",
   "metadata": {},
   "source": [
    "download the dataset from https://www.kaggle.com/asrsaiteja/car-steering-angle-prediction \n",
    "Use Api/Direct download for this purpose."
   ]
  },
  {
   "cell_type": "code",
   "execution_count": 4,
   "metadata": {
    "execution": {
     "iopub.execute_input": "2022-01-14T21:32:58.286145Z",
     "iopub.status.busy": "2022-01-14T21:32:58.285355Z",
     "iopub.status.idle": "2022-01-14T21:32:58.295052Z",
     "shell.execute_reply": "2022-01-14T21:32:58.293887Z",
     "shell.execute_reply.started": "2022-01-14T21:32:58.286090Z"
    }
   },
   "outputs": [],
   "source": [
    "'''dataset function returns an appended list of elements i.e[image_tensor ,angle in radians]\n",
    "   angles we converted to radians, similar to what nvidia did , this reduces the range of the target values\n",
    "   Change the path according to your own file system.\n",
    "   Dataset is not included due to size limitation'''\n",
    "\n",
    "def dataset():\n",
    "    folder = '../input/car-steering-angle-prediction/driving_dataset/'\n",
    "    data_list=[]\n",
    "    with open(\"../input/car-steering-angle-prediction/driving_dataset/angles.txt\") as angle_file:\n",
    "        for line in angle_file:\n",
    "            line_values=line.split()\n",
    "            image = cv2.imread(folder+line_values[0])\n",
    "            resize_image = cv2.resize(image, (200,66))\n",
    "            data_list.append([torch.from_numpy(resize_image.transpose()).float(),float(line_values[1]) * np.pi / 180])\n",
    "    return data_list  "
   ]
  },
  {
   "cell_type": "code",
   "execution_count": 5,
   "metadata": {
    "execution": {
     "iopub.execute_input": "2022-01-14T21:32:58.297704Z",
     "iopub.status.busy": "2022-01-14T21:32:58.297022Z",
     "iopub.status.idle": "2022-01-14T21:40:16.938614Z",
     "shell.execute_reply": "2022-01-14T21:40:16.937387Z",
     "shell.execute_reply.started": "2022-01-14T21:32:58.297656Z"
    }
   },
   "outputs": [],
   "source": [
    "%%time\n",
    "print('Loading dataset')\n",
    "data = dataset()"
   ]
  },
  {
   "cell_type": "code",
   "execution_count": 6,
   "metadata": {
    "execution": {
     "iopub.execute_input": "2022-01-14T21:40:16.940980Z",
     "iopub.status.busy": "2022-01-14T21:40:16.940612Z",
     "iopub.status.idle": "2022-01-14T21:40:17.253918Z",
     "shell.execute_reply": "2022-01-14T21:40:17.252611Z",
     "shell.execute_reply.started": "2022-01-14T21:40:16.940931Z"
    }
   },
   "outputs": [],
   "source": [
    "sample_imag, sample_angle = data[randint(0, len(data))]\n",
    "plt.title(\"Sample Image\")\n",
    "plt.imshow(np.transpose(sample_imag.cpu().numpy().astype(int), (2,1,0)))\n",
    "print(\"angle:\",sample_angle)"
   ]
  },
  {
   "cell_type": "code",
   "execution_count": 7,
   "metadata": {
    "execution": {
     "iopub.execute_input": "2022-01-14T21:40:17.256892Z",
     "iopub.status.busy": "2022-01-14T21:40:17.256544Z",
     "iopub.status.idle": "2022-01-14T21:40:17.265060Z",
     "shell.execute_reply": "2022-01-14T21:40:17.263827Z",
     "shell.execute_reply.started": "2022-01-14T21:40:17.256851Z"
    }
   },
   "outputs": [],
   "source": [
    "#25k images for training \n",
    "#10k for validation\n",
    "#10k for testing\n",
    "data_size=len(data)\n",
    "train_data = data[0:data_size-20000]\n",
    "valid_data = data[data_size-20000:data_size-10000]\n",
    "test_data = data[data_size-10000:data_size]\n"
   ]
  },
  {
   "cell_type": "code",
   "execution_count": 13,
   "metadata": {
    "execution": {
     "iopub.execute_input": "2022-01-14T21:43:31.829950Z",
     "iopub.status.busy": "2022-01-14T21:43:31.829497Z",
     "iopub.status.idle": "2022-01-14T21:43:31.845094Z",
     "shell.execute_reply": "2022-01-14T21:43:31.843949Z",
     "shell.execute_reply.started": "2022-01-14T21:43:31.829913Z"
    }
   },
   "outputs": [],
   "source": [
    "#Model\n",
    "class ConvNet(nn.Module):\n",
    "    \n",
    "    def __init__(self):\n",
    "        super().__init__()\n",
    "        self.normal = nn.LayerNorm([200,66]) \n",
    "        self.conv1 = nn.Conv2d(3, 24, kernel_size=5, stride=2, padding=0)\n",
    "        self.conv2 = nn.Conv2d(24, 36, kernel_size=5, stride=2, padding=0) \n",
    "        self.conv3 = nn.Conv2d(36, 48, kernel_size=5, stride=2, padding=0) \n",
    "        self.conv4 = nn.Conv2d(48, 64, kernel_size=3, stride=1, padding=0) \n",
    "        self.conv5 = nn.Conv2d(64, 64, kernel_size=3, stride=1, padding=0) \n",
    "        self.lin1 = nn.Linear(1152, 100)\n",
    "        self.lin2 = nn.Linear(100, 50)\n",
    "        self.lin3 = nn.Linear(50, 10)\n",
    "        self.lin4 = nn.Linear(10, 1)\n",
    "\n",
    "\n",
    "    def forward(self,x):\n",
    "        x = F.relu(self.conv1(self.normal(x)))\n",
    "        x = F.relu(self.conv2(x))\n",
    "        x = F.relu(self.conv3(x))\n",
    "        x = F.relu(self.conv4(x))\n",
    "        x = F.relu(self.conv5(x))\n",
    "        x = x.view(x.shape[0],-1)\n",
    "        x = F.relu(self.lin1(x))\n",
    "        x = F.relu(self.lin2(x))\n",
    "        x = F.relu(self.lin3(x))\n",
    "        x = self.lin4(x)\n",
    "        return x\n"
   ]
  },
  {
   "cell_type": "code",
   "execution_count": 18,
   "metadata": {
    "execution": {
     "iopub.execute_input": "2022-01-14T21:48:53.563491Z",
     "iopub.status.busy": "2022-01-14T21:48:53.562462Z",
     "iopub.status.idle": "2022-01-14T21:48:53.580687Z",
     "shell.execute_reply": "2022-01-14T21:48:53.579551Z",
     "shell.execute_reply.started": "2022-01-14T21:48:53.563444Z"
    }
   },
   "outputs": [],
   "source": [
    "\n",
    "def model_train(train, valid, test, network, optimizer, criterion, epochs, batch):\n",
    "    #list to store train and val loss over epochs\n",
    "    loss_list=[]\n",
    "    for e in tqdm(range(epochs)):\n",
    "        print(\"------------Epoch:\",e,\"------------\")\n",
    "        print(\"Started\")\n",
    "        print(\"Training for Epoch:\",e)\n",
    "        #train data loading and training starts\n",
    "        train_loader = torch.utils.data.DataLoader(train, batch_size=batch, shuffle=True)\n",
    "        loss_train = 0\n",
    "        for i,sample_batched in enumerate(train_loader):\n",
    "            optimizer.zero_grad()\n",
    "            label = torch.reshape(sample_batched[1], (sample_batched[1].shape[0],1)).type(torch.float32)\n",
    "            predicted = net(sample_batched[0])\n",
    "            loss = criterion(predicted,label)\n",
    "            loss_train += loss.item()\n",
    "            loss.backward()\n",
    "            optimizer.step() \n",
    "               \n",
    "        print(\"Training ended with loss : \" ,np.sqrt(loss_train/len(train)))\n",
    "        print(\"Validation for Epoch:\",e)\n",
    "        #validation data loading and validation starts\n",
    "        validation_loader = torch.utils.data.DataLoader(valid, batch_size=batch, shuffle=True)\n",
    "        loss_sum = 0\n",
    "        for i,sample_batched in enumerate(validation_loader):\n",
    "            target = torch.reshape(sample_batched[1], (sample_batched[1].shape[0],1)).type(torch.float32)\n",
    "            predicted = net(sample_batched[0])\n",
    "            loss_val = criterion(predicted,target)\n",
    "            loss_sum += loss_val.item()\n",
    "        print(\"Validaiton ended with loss : \",np.sqrt(loss_sum/len(valid)))\n",
    "        loss_list.append([np.sqrt(loss_train/len(train)),np.sqrt(loss_sum/len(valid))])\n",
    "    #testing after model trained    \n",
    "    test_loader = torch.utils.data.DataLoader(test, batch_size=batch, shuffle=True)\n",
    "    loss_sum_test = 0\n",
    "    for i,sample_batched in enumerate(test_loader):\n",
    "        target = torch.reshape(sample_batched[1], (sample_batched[1].shape[0],1)).type(torch.float32)\n",
    "        predicted = net(sample_batched[0])\n",
    "        loss_test = criterion(predicted, target)\n",
    "        loss_sum_test += loss_test.item()\n",
    "\n",
    "    return loss_list,np.sqrt(loss_sum_test/len(test))"
   ]
  },
  {
   "cell_type": "code",
   "execution_count": 19,
   "metadata": {
    "execution": {
     "iopub.execute_input": "2022-01-14T21:48:56.927775Z",
     "iopub.status.busy": "2022-01-14T21:48:56.927259Z",
     "iopub.status.idle": "2022-01-14T22:11:45.652764Z",
     "shell.execute_reply": "2022-01-14T22:11:45.651445Z",
     "shell.execute_reply.started": "2022-01-14T21:48:56.927730Z"
    }
   },
   "outputs": [],
   "source": [
    "net = ConvNet()\n",
    "epochs = 10\n",
    "batch_size = 512\n",
    "#learning rate=0.001\n",
    "optimizer = torch.optim.Adam(net.parameters(),lr=0.001)\n",
    "criterion = torch.nn.MSELoss(reduction='mean')\n",
    "loss,loss_test = model_train(train_data, valid_data, test_data, net, optimizer, criterion,epochs , batch_size)\n"
   ]
  },
  {
   "cell_type": "code",
   "execution_count": 34,
   "metadata": {
    "execution": {
     "iopub.execute_input": "2022-01-14T22:19:59.562010Z",
     "iopub.status.busy": "2022-01-14T22:19:59.561121Z",
     "iopub.status.idle": "2022-01-14T22:19:59.567220Z",
     "shell.execute_reply": "2022-01-14T22:19:59.566178Z",
     "shell.execute_reply.started": "2022-01-14T22:19:59.561969Z"
    }
   },
   "outputs": [],
   "source": [
    "val_loss= [ item[1] for item in loss ]\n",
    "train_loss=[ item[0] for item in loss ]"
   ]
  },
  {
   "cell_type": "code",
   "execution_count": 40,
   "metadata": {
    "execution": {
     "iopub.execute_input": "2022-01-14T22:23:12.773008Z",
     "iopub.status.busy": "2022-01-14T22:23:12.772333Z",
     "iopub.status.idle": "2022-01-14T22:23:12.992146Z",
     "shell.execute_reply": "2022-01-14T22:23:12.990930Z",
     "shell.execute_reply.started": "2022-01-14T22:23:12.772940Z"
    }
   },
   "outputs": [],
   "source": [
    "#Plotting results\n",
    "plt.plot(np.arange(len(train_loss)), train_loss, label='Training loss')\n",
    "plt.plot(np.arange(len(val_loss)), val_loss, label='Validation loss')\n",
    "plt.title('Loss')\n",
    "plt.xlabel('Epochs')\n",
    "plt.ylabel('Loss')\n",
    "plt.legend()\n",
    "plt.show()\n",
    "print(\"\\tTest loss : \", loss_test)\n"
   ]
  }
 ],
 "metadata": {
  "kernelspec": {
   "display_name": "Python 3 (ipykernel)",
   "language": "python",
   "name": "python3"
  },
  "language_info": {
   "codemirror_mode": {
    "name": "ipython",
    "version": 3
   },
   "file_extension": ".py",
   "mimetype": "text/x-python",
   "name": "python",
   "nbconvert_exporter": "python",
   "pygments_lexer": "ipython3",
   "version": "3.9.7"
  }
 },
 "nbformat": 4,
 "nbformat_minor": 4
}
